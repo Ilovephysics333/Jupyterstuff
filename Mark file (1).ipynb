{
 "cells": [
  {
   "cell_type": "code",
   "execution_count": 32,
   "metadata": {},
   "outputs": [],
   "source": [
    "import pandas as pd\n",
    "import matplotlib.pyplot as pl\n",
    "%matplotlib inline\n",
    "import datetime\n",
    "import time"
   ]
  },
  {
   "cell_type": "code",
   "execution_count": 33,
   "metadata": {
    "scrolled": true
   },
   "outputs": [
    {
     "name": "stdout",
     "output_type": "stream",
     "text": [
      "/Users/newuser/Desktop\n"
     ]
    }
   ],
   "source": [
    "cd /Users/newuser/desktop/"
   ]
  },
  {
   "cell_type": "code",
   "execution_count": 34,
   "metadata": {},
   "outputs": [],
   "source": [
    "#Separated into diff things in a list\n",
    "MTdata = pd.read_csv(\"data1.csv\",sep=';')\n",
    "#I used the variable Date to pop out the time/date from MTdata\n",
    "Date = MTdata.pop('Time')\n",
    "#Popping out Value\n",
    "Value = MTdata.pop('Value')\n",
    "#Popping out Series\n",
    "Series = MTdata.pop('Series')\n",
    "#Separating dates and changing them to m-dd format in MTdata\n",
    "Listdates = []\n",
    "for dates in Date:\n",
    "        x=([dates[i:i+4] for i in range(6, len(dates), 8)][0])\n",
    "        Listdates.append(x) \n",
    "#Seperating Value in MTdata\n",
    "\n",
    "Listvalues = []\n",
    "for value in Value:\n",
    "        Listvalues.append(value)           \n",
    "#Separating time\n",
    "Listtimes = []\n",
    "for dates in Date:\n",
    "        z=([dates[i:i+8] for i in range(11, len(dates), 19)][0])\n",
    "        Listtimes.append(z)\n",
    "#Times converted into decimals in variable Time_decimals in MTdada..to print this use print(get_sec(times))\n",
    "Time_decimals = []\n",
    "for times in Listtimes:\n",
    "    def get_hour(time_str):\n",
    "        h, m, s = time_str.split(':')\n",
    "        return (int(h) * 3600 + int(m) * 60 + int(s))/3600 \n",
    "    Time_decimals.append(get_hour(times))\n"
   ]
  },
  {
   "cell_type": "code",
   "execution_count": 35,
   "metadata": {},
   "outputs": [],
   "source": [
    "#This takes the dates and times and puts them together\n",
    "#(so they can be associated with one another) and then\n",
    "#adds a \"24\" to each time to represent the day\n",
    "for dates,timedex in zip(Listdates,range(len(Time_decimals))):\n",
    "    if dates == '6-26':\n",
    "        Time_decimals[timedex] += 24*8\n",
    "    elif dates == '6-27':\n",
    "        Time_decimals[timedex] += 24*9\n",
    "    elif dates == '6-28':\n",
    "        Time_decimals[timedex] += 24*10\n",
    "    elif dates == '6-29':\n",
    "        Time_decimals[timedex] += 24*11\n",
    "    elif dates == '6-30':\n",
    "        Time_decimals[timedex] += 24*12\n",
    "    elif dates == '7-01':\n",
    "        Time_decimals[timedex] += 24*13\n",
    "    elif dates == '7-02':\n",
    "        Time_decimals[timedex] += 24*14\n",
    "    elif dates == '7-03':\n",
    "        Time_decimals[timedex] += 24*15\n",
    "    elif dates == '7-04':\n",
    "        Time_decimals[timedex] += 24*16\n",
    "    elif dates == '7-05':\n",
    "        Time_decimals[timedex] += 24*17\n",
    "    elif dates == '7-06':\n",
    "        Time_decimals[timedex] += 24*18\n",
    "    elif dates == '7-07':\n",
    "        Time_decimals[timedex] += 24*19\n",
    " "
   ]
  },
  {
   "cell_type": "code",
   "execution_count": 36,
   "metadata": {},
   "outputs": [],
   "source": [
    "#This is turning my lists into arrays that I can work with for Mirror East\n",
    "import numpy as np\n",
    "np_Time_decimals = np.array(Time_decimals)\n",
    "np_Listvalues = np.array(Listvalues)\n",
    "np_series = np.array(Series)\n",
    "valid = np.where(np_series == 'Mirror edge East')\n",
    "east_series = np_series[valid]\n",
    "east_time = np_Time_decimals[valid]\n",
    "east_values = np_Listvalues[valid]"
   ]
  },
  {
   "cell_type": "code",
   "execution_count": 37,
   "metadata": {},
   "outputs": [],
   "source": [
    "#This is turning my lists into arrays that I can work with for Mirror West\n",
    "np_Time_decimals = np.array(Time_decimals)\n",
    "np_Listvalues = np.array(Listvalues)\n",
    "np_series = np.array(Series)\n",
    "valid = np.where(np_series == 'Mirror edge West')\n",
    "west_series = np_series[valid]\n",
    "west_time = np_Time_decimals[valid]\n",
    "west_values = np_Listvalues[valid]"
   ]
  },
  {
   "cell_type": "code",
   "execution_count": 38,
   "metadata": {},
   "outputs": [],
   "source": [
    "#This is turning my lists into arrays that I can work with for Tube near secondary to South\n",
    "np_Time_decimals = np.array(Time_decimals)\n",
    "np_Listvalues = np.array(Listvalues)\n",
    "np_series = np.array(Series)\n",
    "valid = np.where(np_series == 'Tube near secondary to South')\n",
    "tss_series = np_series[valid]\n",
    "tss_time = np_Time_decimals[valid]\n",
    "tss_values = np_Listvalues[valid]"
   ]
  },
  {
   "cell_type": "code",
   "execution_count": 39,
   "metadata": {},
   "outputs": [],
   "source": [
    "#This is turning my lists into arrays that I can work with for Tube near SNIFS rack to East\n",
    "np_Time_decimals = np.array(Time_decimals)\n",
    "np_Listvalues = np.array(Listvalues)\n",
    "np_series = np.array(Series)\n",
    "valid = np.where(np_series == 'Tube near SNIFS rack to East')\n",
    "tse_series = np_series[valid]\n",
    "tse_time = np_Time_decimals[valid]\n",
    "tse_values = np_Listvalues[valid]"
   ]
  },
  {
   "cell_type": "code",
   "execution_count": 40,
   "metadata": {},
   "outputs": [
    {
     "name": "stdout",
     "output_type": "stream",
     "text": [
      "[3.82694292 3.82694292 3.82694292 ... 3.43631768 3.43631768 3.41800714]\n"
     ]
    }
   ],
   "source": [
    "#Mark this is the list of the range of temperatures you want to work with. So make sure you put \n",
    "#the brackets and the range when you plot it, im sure you know that\n",
    "print(east_values[131018:136100])"
   ]
  },
  {
   "cell_type": "code",
   "execution_count": 43,
   "metadata": {},
   "outputs": [
    {
     "name": "stdout",
     "output_type": "stream",
     "text": [
      "[380.5725     380.57527778 380.57805556 ... 394.68805556 394.69083333\n",
      " 394.69361111]\n"
     ]
    }
   ],
   "source": [
    "#This is the list of times you want to work with. The first one corresponds with the first temperature\n",
    "#According to the data this range is from July 3rd 8:34pm- July 4th 10:41 am\n",
    "print(east_time[131018:136100])"
   ]
  }
 ],
 "metadata": {
  "kernelspec": {
   "display_name": "Python 3",
   "language": "python",
   "name": "python3"
  },
  "language_info": {
   "codemirror_mode": {
    "name": "ipython",
    "version": 3
   },
   "file_extension": ".py",
   "mimetype": "text/x-python",
   "name": "python",
   "nbconvert_exporter": "python",
   "pygments_lexer": "ipython3",
   "version": "3.7.3"
  }
 },
 "nbformat": 4,
 "nbformat_minor": 2
}
